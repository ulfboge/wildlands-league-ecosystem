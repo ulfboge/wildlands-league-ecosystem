{
  "cells": [
    {
      "cell_type": "markdown",
      "metadata": {
        "id": "view-in-github",
        "colab_type": "text"
      },
      "source": [
        "<a href=\"https://colab.research.google.com/github/ulfboge/wildlands-league-ecosystem/blob/main/scripts/notebokks/deforestation_minimal.ipynb\" target=\"_parent\"><img src=\"https://colab.research.google.com/assets/colab-badge.svg\" alt=\"Open In Colab\"/></a>"
      ]
    },
    {
      "cell_type": "markdown",
      "metadata": {
        "id": "nUl7zp4llf0y"
      },
      "source": [
        "# Deforestation Analysis for Algonquin Park\n",
        "\n",
        "This notebook analyzes historical deforestation patterns in Algonquin Park using:\n",
        "1. Hansen Global Forest Change dataset (2000-2023)\n",
        "2. GLAD Global Land Cover and Land Use Change (GLCLUC2020) dataset\n",
        "\n",
        "The analysis applies Canada's definition of forest and generates outputs to assess carbon sequestration feasibility."
      ]
    },
    {
      "cell_type": "code",
      "execution_count": null,
      "metadata": {
        "id": "J9ozcKjjlf0z"
      },
      "outputs": [],
      "source": [
        "# Install required packages\n",
        "!pip install numpy pandas geopandas matplotlib scipy earthengine-api geemap folium"
      ]
    },
    {
      "cell_type": "code",
      "execution_count": null,
      "metadata": {
        "id": "6ob2eV1elf00"
      },
      "outputs": [],
      "source": [
        "# Mount Google Drive\n",
        "from google.colab import drive\n",
        "drive.mount('/content/drive')"
      ]
    },
    {
      "cell_type": "code",
      "execution_count": null,
      "metadata": {
        "id": "JE_fUx45lf00"
      },
      "outputs": [],
      "source": [
        "import os\n",
        "import numpy as np\n",
        "import pandas as pd\n",
        "import geopandas as gpd\n",
        "import matplotlib.pyplot as plt\n",
        "import ee\n",
        "import geemap\n",
        "import logging\n",
        "\n",
        "# Configure logging\n",
        "logging.basicConfig(level=logging.INFO, format='%(asctime)s - %(levelname)s - %(message)s')\n",
        "\n",
        "# Configure paths for Google Drive\n",
        "BASE_DIR = '/content/drive/MyDrive/wildlands_league'\n",
        "STUDY_AREA_PATH = os.path.join(BASE_DIR, 'Algonquin_Park_Layers.gpkg')\n",
        "OUTPUT_DIR = BASE_DIR\n",
        "\n",
        "# Create output directory if it doesn't exist\n",
        "os.makedirs(OUTPUT_DIR, exist_ok=True)"
      ]
    },
    {
      "cell_type": "code",
      "execution_count": null,
      "metadata": {
        "id": "gy_w2HgWlf00"
      },
      "outputs": [],
      "source": [
        "# Initialize Earth Engine\n",
        "try:\n",
        "    ee.Initialize()\n",
        "except Exception:\n",
        "    ee.Authenticate()\n",
        "    ee.Initialize()"
      ]
    },
    {
      "cell_type": "code",
      "execution_count": null,
      "metadata": {
        "id": "KiD7b5mSlf00"
      },
      "outputs": [],
      "source": [
        "# Load the study area\n",
        "try:\n",
        "    study_area = gpd.read_file(STUDY_AREA_PATH)\n",
        "    print(f\"Loaded study area from {STUDY_AREA_PATH}\")\n",
        "\n",
        "    # Convert to GeoJSON for Earth Engine\n",
        "    study_area_json = study_area.to_crs(\"EPSG:4326\").__geo_interface__\n",
        "\n",
        "    # Create Earth Engine geometry\n",
        "    study_area_ee = ee.FeatureCollection(study_area_json)\n",
        "\n",
        "except Exception as e:\n",
        "    logging.error(f\"Error loading study area: {str(e)}\")\n",
        "    raise"
      ]
    },
    {
      "cell_type": "code",
      "execution_count": null,
      "metadata": {
        "id": "qQ4vLzTylf01"
      },
      "outputs": [],
      "source": [
        "# Load Hansen dataset\n",
        "hansen = ee.Image(\"UMD/hansen/global_forest_change_2023_v1_11\")\n",
        "\n",
        "# Apply Canada's forest definition (>25% canopy cover)\n",
        "treecover2000 = hansen.select(['treecover2000'])\n",
        "forest_cover = treecover2000.gte(25)\n",
        "\n",
        "# Get forest loss year (1-23, representing 2001-2023)\n",
        "loss_year = hansen.select(['lossyear'])"
      ]
    },
    {
      "cell_type": "code",
      "execution_count": null,
      "metadata": {
        "id": "WVyRr6OFlf01"
      },
      "outputs": [],
      "source": [
        "# Create a map\n",
        "map_obj = geemap.Map()\n",
        "\n",
        "# Add forest cover in 2000\n",
        "map_obj.add_layer(\n",
        "    forest_cover.clip(study_area_ee),\n",
        "    {'palette': ['green']},\n",
        "    'Forest Cover 2000'\n",
        ")\n",
        "\n",
        "# Add forest loss by year\n",
        "map_obj.add_layer(\n",
        "    loss_year.updateMask(loss_year.gt(0)).clip(study_area_ee),\n",
        "    {\n",
        "        'min': 1,\n",
        "        'max': 23,\n",
        "        'palette': ['red', 'orange', 'yellow', 'green']\n",
        "    },\n",
        "    'Forest Loss Year'\n",
        ")\n",
        "\n",
        "# Add study area boundary\n",
        "map_obj.add_layer(study_area_ee, {}, 'Study Area')\n",
        "\n",
        "# Center map on study area\n",
        "map_obj.center_object(study_area_ee, zoom=10)\n",
        "map_obj"
      ]
    },
    {
      "cell_type": "code",
      "execution_count": null,
      "metadata": {
        "id": "oeKN6i6Xlf01"
      },
      "outputs": [],
      "source": [
        "# Calculate area in hectares\n",
        "pixel_area = ee.Image.pixelArea().divide(10000)  # Convert to hectares\n",
        "\n",
        "# Calculate total forest area in 2000\n",
        "forest_area_2000 = forest_cover.multiply(pixel_area).reduceRegion(\n",
        "    reducer=ee.Reducer.sum(),\n",
        "    geometry=study_area_ee,\n",
        "    scale=30,\n",
        "    maxPixels=1e12\n",
        ").get('treecover2000').getInfo()\n",
        "\n",
        "print(f\"Forest area in 2000: {forest_area_2000:.2f} hectares\")"
      ]
    },
    {
      "cell_type": "code",
      "execution_count": null,
      "metadata": {
        "id": "KaQ90IFNlf01"
      },
      "outputs": [],
      "source": [
        "# Calculate forest loss by year\n",
        "loss_by_year = {}\n",
        "for year in range(1, 24):  # 2001-2023\n",
        "    # Create mask for this year's loss\n",
        "    this_year_loss = loss_year.eq(year).And(forest_cover)\n",
        "\n",
        "    # Calculate area lost this year\n",
        "    area_lost = this_year_loss.multiply(pixel_area).reduceRegion(\n",
        "        reducer=ee.Reducer.sum(),\n",
        "        geometry=study_area_ee,\n",
        "        scale=30,\n",
        "        maxPixels=1e12\n",
        "    ).get('lossyear').getInfo()\n",
        "\n",
        "    loss_by_year[year + 2000] = area_lost\n",
        "\n",
        "# Create DataFrame for loss by year\n",
        "loss_df = pd.DataFrame({\n",
        "    'Year': list(loss_by_year.keys()),\n",
        "    'Area_Lost_Ha': list(loss_by_year.values())\n",
        "})\n",
        "\n",
        "# Calculate cumulative loss and percentage\n",
        "loss_df['Cumulative_Loss_Ha'] = loss_df['Area_Lost_Ha'].cumsum()\n",
        "loss_df['Percent_of_2000_Forest'] = (loss_df['Area_Lost_Ha'] / forest_area_2000) * 100\n",
        "loss_df['Cumulative_Percent'] = loss_df['Cumulative_Loss_Ha'] / forest_area_2000 * 100\n",
        "\n",
        "# Save to CSV\n",
        "output_path = os.path.join(OUTPUT_DIR, \"deforestation_loss_by_year.csv\")\n",
        "loss_df.to_csv(output_path, index=False)\n",
        "\n",
        "print(f\"Saved deforestation results to {output_path}\")"
      ]
    },
    {
      "cell_type": "code",
      "execution_count": null,
      "metadata": {
        "id": "Nbj8gzv-lf01"
      },
      "outputs": [],
      "source": [
        "# Plot deforestation trends\n",
        "fig, ax = plt.subplots(figsize=(12, 6))\n",
        "ax.bar(loss_df['Year'], loss_df['Area_Lost_Ha'], color='red', alpha=0.7)\n",
        "ax.set_xlabel('Year')\n",
        "ax.set_ylabel('Forest Loss (hectares)')\n",
        "ax.set_title('Annual Forest Loss in Algonquin Park (2001-2023)')\n",
        "ax.grid(axis='y', linestyle='--', alpha=0.7)\n",
        "plt.tight_layout()\n",
        "plt.savefig(os.path.join(OUTPUT_DIR, \"deforestation_trends.png\"), dpi=300)\n",
        "plt.show()"
      ]
    }
  ],
  "metadata": {
    "kernelspec": {
      "display_name": "Python 3",
      "language": "python",
      "name": "python3"
    },
    "language_info": {
      "codemirror_mode": {
        "name": "ipython",
        "version": 3
      },
      "file_extension": ".py",
      "mimetype": "text/x-python",
      "name": "python",
      "nbconvert_exporter": "python",
      "pygments_lexer": "ipython3",
      "version": "3.8.0"
    },
    "colab": {
      "provenance": [],
      "include_colab_link": true
    }
  },
  "nbformat": 4,
  "nbformat_minor": 0
}