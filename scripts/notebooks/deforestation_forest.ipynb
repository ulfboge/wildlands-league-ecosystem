{
 "cells": [
  {
   "cell_type": "code",
   "execution_count": null,
   "metadata": {
    "id": "_9pDqS3eybci"
   },
   "outputs": [],
   "source": [
    "# Mount Google Drive\n",
    "from google.colab import drive\n",
    "drive.mount('/content/drive')"
   ]
  },
  {
   "cell_type": "code",
   "execution_count": null,
   "metadata": {
    "id": "ivr-neHDUpS1"
   },
   "outputs": [],
   "source": [
    "!pip install rasterio"
   ]
  },
  {
   "cell_type": "code",
   "execution_count": null,
   "metadata": {
    "id": "ba91d8a5"
   },
   "outputs": [],
   "source": [
    "import os\n",
    "import numpy as np\n",
    "import pandas as pd\n",
    "import geopandas as gpd\n",
    "import rasterio\n",
    "from rasterio.mask import mask\n",
    "import matplotlib.pyplot as plt\n",
    "import ee\n",
    "import logging\n",
    "from shapely.geometry import mapping\n",
    "\n",
    "# Define paths\n",
    "BASE_DIR = \"/content/drive/MyDrive/wildlands_league\"\n",
    "OUTPUT_DIR = BASE_DIR\n",
    "STUDY_AREA_PATH = os.path.join(BASE_DIR, \"Algonquin_Park_Layers.gpkg\")\n",
    "\n",
    "# Confirm paths\n",
    "print(\"Working directory:\", OUTPUT_DIR)\n",
    "print(\"Study area file:\", STUDY_AREA_PATH)\n",
    "\n",
    "# Ensure output directory exists\n",
    "os.makedirs(OUTPUT_DIR, exist_ok=True)"
   ]
  },
  {
   "cell_type": "code",
   "execution_count": null,
   "metadata": {
    "id": "_YWYflR4ybci"
   },
   "outputs": [],
   "source": [
    "import ee\n",
    "\n",
    "# Authenticate with your Google account\n",
    "try:\n",
    "    ee.Initialize(project='ee-komba')\n",
    "except ee.EEException:\n",
    "    ee.Authenticate()\n",
    "    ee.Initialize(project='ee-komba')"
   ]
  },
  {
   "cell_type": "code",
   "execution_count": null,
   "metadata": {
    "id": "99ac46ce"
   },
   "outputs": [],
   "source": [
    "# Manually uploaded local file paths\n",
    "glad_datasets = {\n",
    "    \"Forest_extent_2000\": os.path.join(OUTPUT_DIR, \"Forest_extent_2000.tif\"),\n",
    "    \"Forest_extent_2020\": os.path.join(OUTPUT_DIR, \"Forest_extent_2020.tif\"),\n",
    "    \"Net_loss_2000_2020\": os.path.join(OUTPUT_DIR, \"netloss.tif\"),\n",
    "    \"Forest_height_2000\": os.path.join(OUTPUT_DIR, \"Forest_Height_2000.tif\"),\n",
    "    \"Forest_height_2020\": os.path.join(OUTPUT_DIR, \"forest_height_2020.tif\"),\n",
    "    \"Net_gain_2000_2020\": os.path.join(OUTPUT_DIR, \"netgain.tif\")\n",
    "}"
   ]
  },
  {
   "cell_type": "code",
   "execution_count": null,
   "metadata": {
    "id": "df03f7a8"
   },
   "outputs": [],
   "source": [
    "# Read AOI\n",
    "aoi = gpd.read_file(STUDY_AREA_PATH)\n",
    "aoi = aoi.to_crs(\"EPSG:4326\")\n",
    "\n",
    "# Initialize stats_list\n",
    "stats_list = []\n",
    "\n",
    "# Loop through datasets and process\n",
    "for name, local_tif in glad_datasets.items():\n",
    "    if not os.path.exists(local_tif):\n",
    "        print(f\"Missing: {local_tif}\")\n",
    "        continue\n",
    "\n",
    "    print(f\"Processing {name}...\")\n",
    "    with rasterio.open(local_tif) as src:\n",
    "        out_image, out_transform = rasterio.mask.mask(src, aoi.geometry.map(mapping), crop=True)\n",
    "        out_meta = src.meta.copy()\n",
    "\n",
    "        # Update metadata\n",
    "        out_meta.update({\n",
    "            \"driver\": \"GTiff\",\n",
    "            \"height\": out_image.shape[1],\n",
    "            \"width\": out_image.shape[2],\n",
    "            \"transform\": out_transform\n",
    "        })\n",
    "\n",
    "        # Save clipped raster\n",
    "        clipped_path = os.path.join(OUTPUT_DIR, f\"{name}_clipped.tif\")\n",
    "        with rasterio.open(clipped_path, \"w\", **out_meta) as dest:\n",
    "            dest.write(out_image)\n",
    "\n",
    "        # Calculate statistics\n",
    "        data = out_image[0]\n",
    "        data = data[data != src.nodata] if src.nodata is not None else data\n",
    "        \n",
    "        # Add stats to stats_list\n",
    "        stats = {\n",
    "            \"Dataset\": name,\n",
    "            \"Min\": float(np.min(data)),\n",
    "            \"Max\": float(np.max(data)),\n",
    "            \"Mean\": float(np.mean(data)),\n",
    "            \"Non_zero_pixels\": int((data > 0).sum())\n",
    "        }\n",
    "        stats_list.append(stats)\n",
    "        \n",
    "        # Print basic stats\n",
    "        print(f\"  Min: {stats['Min']}\")\n",
    "        print(f\"  Max: {stats['Max']}\")\n",
    "        print(f\"  Mean: {stats['Mean']:.2f}\")\n",
    "        print(f\"  Non-zero pixels: {stats['Non_zero_pixels']}\")\n",
    "\n",
    "print(\"\\nCompleted processing all datasets\")"
   ]
  },
  {
   "cell_type": "code",
   "execution_count": null,
   "metadata": {
    "id": "ensure-stats-df"
   },
   "outputs": [],
   "source": [
    "# Create stats_df from stats_list\n",
    "if len(stats_list) > 0:\n",
    "    stats_df = pd.DataFrame(stats_list)\n",
    "    print(\"✅ Created stats_df from stats_list\")\n",
    "    \n",
    "    # Calculate areas\n",
    "    PIXEL_AREA_HA = 0.09  # 30m x 30m = 900m² = 0.09 ha\n",
    "    stats_df[\"Area_ha\"] = stats_df[\"Non_zero_pixels\"] * PIXEL_AREA_HA\n",
    "    \n",
    "    # Save to CSV\n",
    "    csv_path = os.path.join(OUTPUT_DIR, \"forest_stats_with_area.csv\")\n",
    "    stats_df.to_csv(csv_path, index=False)\n",
    "    print(f\"✅ Saved stats with area to {csv_path}\")\n",
    "    \n",
    "    # Display the results\n",
    "    print(\"\\nForest Analysis Results:\")\n",
    "    print(stats_df.to_string(index=False))\n",
    "else:\n",
    "    raise ValueError(\"❌ No data was processed. Please check the input datasets.\")"
   ]
  },
  {
   "cell_type": "code",
   "execution_count": null,
   "metadata": {
    "id": "2462677e"
   },
   "outputs": [],
   "source": [
    "# Create a buffer around the AOI\n",
    "buffer_distance_m = 5000  # 5 km buffer\n",
    "\n",
    "# Project AOI to UTM Zone 17N for Ontario\n",
    "aoi_projected = aoi.to_crs(epsg=32617)\n",
    "aoi_buffered = aoi_projected.buffer(buffer_distance_m)\n",
    "aoi_buffered_gdf = gpd.GeoDataFrame(geometry=aoi_buffered, crs=aoi_projected.crs)\n",
    "\n",
    "# Reproject buffer back to WGS84\n",
    "aoi_buffered_wgs84 = aoi_buffered_gdf.to_crs(\"EPSG:4326\")\n",
    "buffer_geom = [aoi_buffered_wgs84.unary_union]\n",
    "\n",
    "# Analyze datasets using the buffer zone\n",
    "buffer_stats_list = []\n",
    "\n",
    "for name, local_tif in glad_datasets.items():\n",
    "    if not os.path.exists(local_tif):\n",
    "        print(f\"Missing: {local_tif}\")\n",
    "        continue\n",
    "\n",
    "    with rasterio.open(local_tif) as src:\n",
    "        try:\n",
    "            out_image, out_transform = mask(src, buffer_geom, crop=True)\n",
    "            \n",
    "            data = out_image[0]\n",
    "            data = data[data != src.nodata] if src.nodata is not None else data\n",
    "            \n",
    "            if data.size > 0:\n",
    "                stats = {\n",
    "                    \"Dataset\": name,\n",
    "                    \"Region\": \"Buffer Zone\",\n",
    "                    \"Min\": float(np.min(data)),\n",
    "                    \"Max\": float(np.max(data)),\n",
    "                    \"Mean\": float(np.mean(data)),\n",
    "                    \"Non_zero_pixels\": int((data > 0).sum()),\n",
    "                    \"Area_ha\": int((data > 0).sum()) * PIXEL_AREA_HA\n",
    "                }\n",
    "                buffer_stats_list.append(stats)\n",
    "                print(f\"Processed {name} for buffer zone\")\n",
    "                \n",
    "        except Exception as e:\n",
    "            print(f\"Error processing {name} for buffer zone: {e}\")\n",
    "\n",
    "# Combine core and buffer statistics\n",
    "if 'stats_df' in globals():\n",
    "    stats_df[\"Region\"] = \"Core AOI\"\n",
    "    combined_df = pd.concat([stats_df, pd.DataFrame(buffer_stats_list)], ignore_index=True)\n",
    "    \n",
    "    # Save combined results\n",
    "    combined_csv_path = os.path.join(OUTPUT_DIR, \"forest_extent_height_with_buffer.csv\")\n",
    "    combined_df.to_csv(combined_csv_path, index=False)\n",
    "    print(f\"\\nSaved combined analysis to {combined_csv_path}\")\n",
    "    \n",
    "    # Display results\n",
    "    print(\"\\nCombined Analysis Results:\")\n",
    "    print(combined_df.to_string(index=False))\n",
    "else:\n",
    "    print(\"❌ Core AOI analysis not found. Only buffer zone results available.\")"
   ]
  }
 ],
 "metadata": {
  "colab": {
   "provenance": []
  },
  "kernelspec": {
   "display_name": "Python 3",
   "language": "python",
   "name": "python3"
  },
  "language_info": {
   "codemirror_mode": {
    "name": "ipython",
    "version": 3
   },
   "file_extension": ".py",
   "mimetype": "text/x-python",
   "name": "python",
   "nbconvert_exporter": "python",
   "pygments_lexer": "ipython3",
   "version": "3.8.0"
  }
 },
 "nbformat": 4,
 "nbformat_minor": 0
}