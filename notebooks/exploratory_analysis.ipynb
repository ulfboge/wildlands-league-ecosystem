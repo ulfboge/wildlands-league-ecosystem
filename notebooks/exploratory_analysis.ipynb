{
 "cells": [
  {
   "cell_type": "markdown",
   "metadata": {},
   "source": [
    "# Wildlands League - Exploratory Analysis\n",
    "\n",
    "This notebook contains exploratory analysis for the Wildlands League ecosystem services project."
   ]
  },
  {
   "cell_type": "code",
   "execution_count": null,
   "metadata": {},
   "source": [
    "# Import required libraries\n",
    "import os\n",
    "import numpy as np\n",
    "import pandas as pd\n",
    "import geopandas as gpd\n",
    "import matplotlib.pyplot as plt\n",
    "import seaborn as sns\n",
    "\n",
    "# Set plotting style\n",
    "plt.style.use('seaborn')\n",
    "sns.set_context('notebook')"
   ]
  },
  {
   "cell_type": "markdown",
   "metadata": {},
   "source": [
    "## 1. Data Loading\n",
    "First, we'll load and examine the Area of Interest (AOI) data."
   ]
  },
  {
   "cell_type": "code",
   "execution_count": null,
   "metadata": {},
   "source": [
    "# Load AOI data\n",
    "aoi_path = '../data/raw/aoi.shp'  # Update path as needed\n",
    "try:\n",
    "    aoi = gpd.read_file(aoi_path)\n",
    "    print(f\"Loaded AOI with {len(aoi)} features\")\n",
    "except Exception as e:\n",
    "    print(f\"Error loading AOI: {e}\")"
   ]
  },
  {
   "cell_type": "markdown",
   "metadata": {},
   "source": [
    "## 2. Initial Data Exploration\n",
    "Let's examine the basic characteristics of our study area."
   ]
  },
  {
   "cell_type": "code",
   "execution_count": null,
   "metadata": {},
   "source": [
    "# Basic AOI statistics\n",
    "print(\"AOI Information:\")\n",
    "print(\"-\" * 20)\n",
    "print(f\"Total area: {aoi.area.sum() / 1e6:.2f} km²\")\n",
    "print(f\"Coordinate system: {aoi.crs}\")\n",
    "print(\"\\nAttribute columns:\")\n",
    "print(aoi.columns.tolist())"
   ]
  },
  {
   "cell_type": "markdown",
   "metadata": {},
   "source": [
    "## 3. Visualization\n",
    "Create basic visualizations of the study area."
   ]
  },
  {
   "cell_type": "code",
   "execution_count": null,
   "metadata": {},
   "source": [
    "# Plot AOI boundaries\n",
    "fig, ax = plt.subplots(figsize=(12, 8))\n",
    "aoi.plot(ax=ax)\n",
    "ax.set_title('Study Area Boundaries')\n",
    "plt.axis('equal')\n",
    "plt.show()"
   ]
  }
 ],
 "metadata": {
  "kernelspec": {
   "display_name": "Python 3",
   "language": "python",
   "name": "python3"
  },
  "language_info": {
   "codemirror_mode": {
    "name": "ipython",
    "version": 3
   },
   "file_extension": ".py",
   "mimetype": "text/x-python",
   "name": "python",
   "nbconvert_exporter": "python",
   "pygments_lexer": "ipython3",
   "version": "3.8.0"
  }
 },
 "nbformat": 4,
 "nbformat_minor": 4
}